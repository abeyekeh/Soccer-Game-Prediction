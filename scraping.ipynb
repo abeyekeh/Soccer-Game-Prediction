{
 "cells": [
  {
   "cell_type": "code",
   "execution_count": 124,
   "metadata": {},
   "outputs": [
    {
     "ename": "IndexError",
     "evalue": "list index out of range",
     "output_type": "error",
     "traceback": [
      "\u001b[0;31m---------------------------------------------------------------------------\u001b[0m",
      "\u001b[0;31mIndexError\u001b[0m                                Traceback (most recent call last)",
      "Cell \u001b[0;32mIn[124], line 12\u001b[0m\n\u001b[1;32m     10\u001b[0m soup \u001b[38;5;241m=\u001b[39m BeautifulSoup(data\u001b[38;5;241m.\u001b[39mtext, \u001b[38;5;124m'\u001b[39m\u001b[38;5;124mhtml.parser\u001b[39m\u001b[38;5;124m'\u001b[39m)\n\u001b[1;32m     11\u001b[0m standings_table \u001b[38;5;241m=\u001b[39m soup\u001b[38;5;241m.\u001b[39mselect(\u001b[38;5;124m'\u001b[39m\u001b[38;5;124mtable.stats_table\u001b[39m\u001b[38;5;124m'\u001b[39m)\n\u001b[0;32m---> 12\u001b[0m standings_table \u001b[38;5;241m=\u001b[39m \u001b[43mstandings_table\u001b[49m\u001b[43m \u001b[49m\u001b[43m[\u001b[49m\u001b[38;5;241;43m0\u001b[39;49m\u001b[43m]\u001b[49m  \n\u001b[1;32m     13\u001b[0m links \u001b[38;5;241m=\u001b[39m standings_table\u001b[38;5;241m.\u001b[39mfind_all(\u001b[38;5;124m'\u001b[39m\u001b[38;5;124ma\u001b[39m\u001b[38;5;124m'\u001b[39m)\n\u001b[1;32m     14\u001b[0m links \u001b[38;5;241m=\u001b[39m [l\u001b[38;5;241m.\u001b[39mget(\u001b[38;5;124m\"\u001b[39m\u001b[38;5;124mhref\u001b[39m\u001b[38;5;124m\"\u001b[39m) \u001b[38;5;28;01mfor\u001b[39;00m l \u001b[38;5;129;01min\u001b[39;00m links]\n",
      "\u001b[0;31mIndexError\u001b[0m: list index out of range"
     ]
    }
   ],
   "source": [
    "import requests\n",
    "from bs4 import BeautifulSoup\n",
    "import pandas as pd\n",
    "\n",
    "standings_url = \"https://fbref.com/en/comps/9/premier-league-stats\"\n",
    "\n",
    "data = requests.get(standings_url)\n",
    "\n",
    "\n",
    "soup = BeautifulSoup(data.text, 'html.parser')\n",
    "standings_table = soup.select('table.stats_table')\n",
    "standings_table = standings_table [0]  \n",
    "links = standings_table.find_all('a')\n",
    "links = [l.get(\"href\") for l in links]\n",
    "links = [l for l in links if '/squads/' in l]\n",
    "\n",
    "team_url = [f\"https://fbref.com{l}\" for l in links] \n",
    "team_url = team_url[0]\n",
    "\n",
    "data = requests.get(team_url)\n",
    "\n",
    "matches = pd.read_html(data.text, match=\"Scores & Fixtures \")\n",
    "matches[0]\n",
    "\n",
    "soup = BeautifulSoup(data.text)\n",
    "links = soup.find_all('a')\n",
    "links = [l.get(\"href\") for l in links]\n",
    "links = [l for l in links if l and 'all_comps/shooting/' in l]\n",
    "\n",
    "data = requests.get(f\"https://fbref.com{links[0]}\")\n",
    "\n",
    "shooting = pd.read_html(data.text, match=\"Shooting\")[0]\n",
    "shooting.columns = shooting.columns.droplevel()\n",
    "shooting.head()\n",
    "shooting.shape\n",
    "\n",
    "team_data = matches[0].merge(shooting[[\"Date\", \"Sh\", \"SoT\", \"Dist\", \"FK\", \"PK\", \"PKatt\"]], on=\"Date\")\n",
    "team_data.head()\n",
    "\n",
    "years = list(range(2024, 2013, -1))\n",
    "\n",
    "\n",
    "all_matches = []\n",
    "standings_url = \"https://fbref.com/en/comps/9/premier-league-stats\"\n",
    "\n",
    "for year in years:\n",
    "    data = requests.get(standings_url)\n",
    "    soup = BeautifulSoup(data.text)\n",
    "    standings_table = soup.select('table.stats_table')[0]\n",
    "\n",
    "    links = [l.get(\"href\") for l in standings_table.find_all('a')]\n",
    "    links = [l for l in links if '/squads/' in l]\n",
    "    team_urls = [f\"https://fbref.com{l}\" for l in links]\n",
    "    team_urls\n",
    "    \n",
    "    #for team_url in team_urls: \n",
    "       # team_name = team_url.split('/')\n",
    "#team_name\n",
    "\n",
    "\n",
    "\n",
    "\n",
    "\n",
    "\n",
    "\n",
    "\n",
    "\n",
    "\n",
    "\n",
    "\n",
    "\n",
    "\n"
   ]
  }
 ],
 "metadata": {
  "kernelspec": {
   "display_name": "Python 3",
   "language": "python",
   "name": "python3"
  },
  "language_info": {
   "codemirror_mode": {
    "name": "ipython",
    "version": 3
   },
   "file_extension": ".py",
   "mimetype": "text/x-python",
   "name": "python",
   "nbconvert_exporter": "python",
   "pygments_lexer": "ipython3",
   "version": "3.9.6"
  }
 },
 "nbformat": 4,
 "nbformat_minor": 2
}
